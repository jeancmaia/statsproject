{
 "cells": [
  {
   "cell_type": "markdown",
   "metadata": {},
   "source": [
    "# It's an awesome chapter. Let's put the majoritary concepts here."
   ]
  },
  {
   "cell_type": "raw",
   "metadata": {},
   "source": [
    "# Anecdotal Evidence are problematic because: \n",
    "\n",
    "#### Small number of observation are not enought to understand the difference.\n",
    "#### Bias. People of just a group could enjoy the discussion.\n",
    "#### Personal stories. That are often misremembered and inaccurately."
   ]
  },
  {
   "cell_type": "raw",
   "metadata": {},
   "source": [
    "# Statistical Approach(Inferential mode).\n",
    "\n",
    "### Data Collection\n",
    "### Descriptive Statistics. Summarize data consicely.\n",
    "### Exploratory Data Analysis. Patterns, differences and features to address the questions.\n",
    "### Estimation. Sample to general population\n",
    "### Hypothesis testing. Where we see apparent effects, like difference between two groups. "
   ]
  },
  {
   "cell_type": "raw",
   "metadata": {},
   "source": [
    "# Two approachs for study.\n",
    "\n",
    "#### cross-sectional = Snapshot at a point in time.\n",
    "#### longitudinal = Observes a group repeatedly over period of time."
   ]
  },
  {
   "cell_type": "raw",
   "metadata": {},
   "source": [
    "## Recodes = Not part of raw data.\n",
    "## Recodes are often based on logic that checks the consistency and accuracy of the data."
   ]
  }
 ],
 "metadata": {
  "kernelspec": {
   "display_name": "Python 3",
   "language": "python",
   "name": "python3"
  },
  "language_info": {
   "codemirror_mode": {
    "name": "ipython",
    "version": 3
   },
   "file_extension": ".py",
   "mimetype": "text/x-python",
   "name": "python",
   "nbconvert_exporter": "python",
   "pygments_lexer": "ipython3",
   "version": "3.5.4"
  }
 },
 "nbformat": 4,
 "nbformat_minor": 2
}
