{
 "cells": [
  {
   "cell_type": "raw",
   "metadata": {},
   "source": [
    "# Histogram\n",
    "\n",
    "#### Show frequency of each value.\n",
    "#### You could use \n",
    "### from collections import Counter\n",
    "### pandas method value_counts\n",
    "\n"
   ]
  },
  {
   "cell_type": "code",
   "execution_count": 3,
   "metadata": {},
   "outputs": [],
   "source": [
    "# Summarizing Distributions\n",
    "\n",
    "### Central Tendency: Do the values tend to cluster around a particular point?\n",
    "### Modes: Is there more than one cluster?\n",
    "### Spread: How much variability is there in the values?\n",
    "### Tails: How quickly do the probabilities drop off as we move away from the modes?\n",
    "### Outliers: Are there extreme values far from the modes?\n",
    "\n",
    "#### The actor made a distiction between average and mean. Average implies in a value that really represents \n",
    "#### that behaviour "
   ]
  },
  {
   "cell_type": "code",
   "execution_count": 4,
   "metadata": {},
   "outputs": [],
   "source": [
    "### Variance\n",
    "\n",
    "## The most used is: Standard Deviation and implies that we should expect variations to be common."
   ]
  },
  {
   "cell_type": "code",
   "execution_count": 5,
   "metadata": {},
   "outputs": [],
   "source": [
    "### Effect Size\n",
    "\n",
    "## Parameters to estimate the pratical consequences, if you don't have a large number of variables.\n",
    "## A way to measure the effect is using Cohen's d, and you get differences in standard deviations.\n",
    "###  https://en.wikipedia.org/wiki/Effect_size"
   ]
  },
  {
   "cell_type": "code",
   "execution_count": null,
   "metadata": {},
   "outputs": [],
   "source": []
  }
 ],
 "metadata": {
  "kernelspec": {
   "display_name": "Python 3",
   "language": "python",
   "name": "python3"
  },
  "language_info": {
   "codemirror_mode": {
    "name": "ipython",
    "version": 3
   },
   "file_extension": ".py",
   "mimetype": "text/x-python",
   "name": "python",
   "nbconvert_exporter": "python",
   "pygments_lexer": "ipython3",
   "version": "3.5.4"
  }
 },
 "nbformat": 4,
 "nbformat_minor": 2
}
