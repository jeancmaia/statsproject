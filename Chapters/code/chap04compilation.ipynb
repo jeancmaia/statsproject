{
 "cells": [
  {
   "cell_type": "code",
   "execution_count": 1,
   "metadata": {},
   "outputs": [],
   "source": [
    "# Cumulative Distribution"
   ]
  },
  {
   "cell_type": "code",
   "execution_count": 2,
   "metadata": {},
   "outputs": [],
   "source": [
    "## Limits of PMF are small values. Joining this, we have Percentiles concept, \n",
    "## that implies in fraction people who socred lower than you."
   ]
  },
  {
   "cell_type": "code",
   "execution_count": 3,
   "metadata": {},
   "outputs": [],
   "source": [
    "#Function to get PercentileRank.\n",
    "\n",
    "#def PercentileRank(scores, your_score):\n",
    "#    count = 0\n",
    "#    for score in scores:\n",
    "#        if score <= your_score:\n",
    "#            count += 1\n",
    "#    percentile_rank = 100.0 * count / len(scores)\n",
    "#    return percentile_rank"
   ]
  },
  {
   "cell_type": "code",
   "execution_count": 4,
   "metadata": {},
   "outputs": [],
   "source": [
    "# To get percentile from position.\n",
    "\n",
    "#def Percentile2(scores, percentile_rank):\n",
    "#    scores.sort()\n",
    "#    index = percentile_rank * (len(scores)-1) // 100\n",
    "#    return scores[index]"
   ]
  },
  {
   "cell_type": "code",
   "execution_count": 5,
   "metadata": {},
   "outputs": [],
   "source": [
    "# CDF maps value to percentile rank."
   ]
  },
  {
   "cell_type": "code",
   "execution_count": 6,
   "metadata": {},
   "outputs": [],
   "source": [
    "# Percentile-based. \n",
    "## PercentileRank(x). Compute percentile rank, from value.\n",
    "## Percentile(p). Compute value, from percentile rank."
   ]
  },
  {
   "cell_type": "code",
   "execution_count": 7,
   "metadata": {},
   "outputs": [],
   "source": [
    "# Random Numbers.\n",
    "\n",
    "## Suppose we compute the CDF of percentile ranks. What do you think the distribution will look like?\n",
    "\n",
    "# weights = live.totalwgt_lb\n",
    "# cdf = thinkstats2.Cdf(weights, label='totalwgt_lb')\n",
    "# sample = np.random.choice(weights, 100, replace=True)\n",
    "# ranks = [cdf.PercentileRank(x) for x in sample]\n",
    "\n"
   ]
  },
  {
   "cell_type": "code",
   "execution_count": 8,
   "metadata": {},
   "outputs": [],
   "source": [
    "# Comparing percentile ranks.\n"
   ]
  },
  {
   "cell_type": "code",
   "execution_count": null,
   "metadata": {},
   "outputs": [],
   "source": []
  }
 ],
 "metadata": {
  "kernelspec": {
   "display_name": "Python 3",
   "language": "python",
   "name": "python3"
  },
  "language_info": {
   "codemirror_mode": {
    "name": "ipython",
    "version": 3
   },
   "file_extension": ".py",
   "mimetype": "text/x-python",
   "name": "python",
   "nbconvert_exporter": "python",
   "pygments_lexer": "ipython3",
   "version": "3.5.4"
  }
 },
 "nbformat": 4,
 "nbformat_minor": 2
}
